{
  "nbformat": 4,
  "nbformat_minor": 0,
  "metadata": {
    "colab": {
      "provenance": [],
      "authorship_tag": "ABX9TyNBf5+tUIgX3wx4HfT/hDct",
      "include_colab_link": true
    },
    "kernelspec": {
      "name": "python3",
      "display_name": "Python 3"
    },
    "language_info": {
      "name": "python"
    }
  },
  "cells": [
    {
      "cell_type": "markdown",
      "metadata": {
        "id": "view-in-github",
        "colab_type": "text"
      },
      "source": [
        "<a href=\"https://colab.research.google.com/github/Was01/CC50/blob/main/TopicosDeProgramacao/semana2/semana2.ipynb\" target=\"_parent\"><img src=\"https://colab.research.google.com/assets/colab-badge.svg\" alt=\"Open In Colab\"/></a>"
      ]
    },
    {
      "cell_type": "code",
      "execution_count": null,
      "metadata": {
        "id": "uFAANwXom_xb"
      },
      "outputs": [],
      "source": []
    },
    {
      "cell_type": "markdown",
      "source": [
        "## Exemplo: Busca sequencial"
      ],
      "metadata": {
        "id": "BWCA-dfQnE_m"
      }
    },
    {
      "cell_type": "code",
      "source": [
        "def busca_sequencial(lista,valor):\n",
        "  i=0\n",
        "  n=len(lista)\n",
        "  nao_encontrei=True\n",
        "  while i<n and nao_encontrei:\n",
        "    if lista[i]==valor:\n",
        "      nao_encontrei=False\n",
        "      print(\"Valor encontrado na posição\",i+1)\n",
        "    i=i+1\n",
        "  if(nao_encontrei):\n",
        "    print(\"Valor não encontrado\")"
      ],
      "metadata": {
        "id": "ma6ao5RGnJwU"
      },
      "execution_count": 6,
      "outputs": []
    },
    {
      "cell_type": "code",
      "source": [
        "def main():\n",
        "  tam=int(input(\"Tamanho da lista: \"))\n",
        "  lista=[]\n",
        "  for i in range(tam):\n",
        "    lista.append(int(input(\"Elemento: \")))\n",
        "  valor=int(input(\"Valor a ser buscado: \"))\n",
        "  busca_sequencial(lista,valor)\n",
        "\n",
        "\n",
        "main()"
      ],
      "metadata": {
        "colab": {
          "base_uri": "https://localhost:8080/"
        },
        "id": "Hp-XVbq0nfzx",
        "outputId": "10e4ced3-d9da-4103-e861-a5c56b3c5c8e"
      },
      "execution_count": 10,
      "outputs": [
        {
          "output_type": "stream",
          "name": "stdout",
          "text": [
            "Tamanho da lista: 5\n",
            "Elemento: 2\n",
            "Elemento: 3\n",
            "Elemento: 5\n",
            "Elemento: 7\n",
            "Elemento: 11\n",
            "Valor a ser buscado: 4\n",
            "Valor não encontrado\n"
          ]
        }
      ]
    }
  ]
}