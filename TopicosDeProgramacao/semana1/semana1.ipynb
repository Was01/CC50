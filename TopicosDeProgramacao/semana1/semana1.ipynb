{
  "nbformat": 4,
  "nbformat_minor": 0,
  "metadata": {
    "colab": {
      "provenance": [],
      "authorship_tag": "ABX9TyN7rXNk5IE05g9k7BVGF0M+",
      "include_colab_link": true
    },
    "kernelspec": {
      "name": "python3",
      "display_name": "Python 3"
    },
    "language_info": {
      "name": "python"
    }
  },
  "cells": [
    {
      "cell_type": "markdown",
      "metadata": {
        "id": "view-in-github",
        "colab_type": "text"
      },
      "source": [
        "<a href=\"https://colab.research.google.com/github/Was01/CC50/blob/main/TopicosDeProgramacao/semana1/semana1.ipynb\" target=\"_parent\"><img src=\"https://colab.research.google.com/assets/colab-badge.svg\" alt=\"Open In Colab\"/></a>"
      ]
    },
    {
      "cell_type": "markdown",
      "source": [
        "## Soma dos elementos: (n-1)+(n-2)+....+3"
      ],
      "metadata": {
        "id": "02-S_JDkLbF7"
      }
    },
    {
      "cell_type": "code",
      "execution_count": null,
      "metadata": {
        "id": "pzmoY2mFsDV5"
      },
      "outputs": [],
      "source": [
        "def lista_num(n):\n",
        "  soma=0\n",
        "  for i in range(2,n-1):\n",
        "    s=0\n",
        "    for j in range(i,n+1):\n",
        "      s=s+1\n",
        "    soma=soma+s\n",
        "  return soma"
      ]
    },
    {
      "cell_type": "code",
      "source": [
        "lista_num(90)"
      ],
      "metadata": {
        "colab": {
          "base_uri": "https://localhost:8080/"
        },
        "id": "ZODoR6ngsXKi",
        "outputId": "0f7d9277-ade7-41e7-981e-aaf042f4216c"
      },
      "execution_count": null,
      "outputs": [
        {
          "output_type": "execute_result",
          "data": {
            "text/plain": [
              "4002"
            ]
          },
          "metadata": {},
          "execution_count": 13
        }
      ]
    },
    {
      "cell_type": "markdown",
      "source": [
        "## Ordenação de listas"
      ],
      "metadata": {
        "id": "_ClIAkKlLCq9"
      }
    },
    {
      "cell_type": "code",
      "source": [
        "def ordena_lista(lista):\n",
        "  for i in range(len(lista)):\n",
        "    for j in range(i+1,len(lista)):\n",
        "      if lista[i]>lista[j]:\n",
        "        aux=lista[i]\n",
        "        lista[i]=lista[j]\n",
        "        lista[j]=aux\n",
        "  return lista"
      ],
      "metadata": {
        "id": "Pc6Zz1mpKFS3"
      },
      "execution_count": null,
      "outputs": []
    },
    {
      "cell_type": "code",
      "source": [
        "lista=[3,5,7,2,1]\n",
        "print(ordena_lista(lista))"
      ],
      "metadata": {
        "colab": {
          "base_uri": "https://localhost:8080/"
        },
        "id": "_Gbm7NxOKxbo",
        "outputId": "2cee9e1b-73bc-4d7d-9598-9154f3bc1734"
      },
      "execution_count": null,
      "outputs": [
        {
          "output_type": "stream",
          "name": "stdout",
          "text": [
            "[1, 2, 3, 5, 7]\n"
          ]
        }
      ]
    },
    {
      "cell_type": "code",
      "source": [
        "def novo_ordena_lista(lista):\n",
        "  n=len(lista)\n",
        "\n",
        "  while(n>1):\n",
        "    for i in range(n-1):\n",
        "\n",
        "      if lista[i]>lista[i+1]:\n",
        "\n",
        "        aux=lista[i]\n",
        "        lista[i]=lista[i+1]\n",
        "        lista[i+1]=aux\n",
        "    n=n-1\n",
        "  return lista\n"
      ],
      "metadata": {
        "id": "P9gAnPFJLbqR"
      },
      "execution_count": null,
      "outputs": []
    },
    {
      "cell_type": "code",
      "source": [
        "lista=[8,7,5,3,2,1,-2,-8]\n",
        "print(novo_ordena_lista(lista))"
      ],
      "metadata": {
        "id": "_7IGAUZKNO0w",
        "colab": {
          "base_uri": "https://localhost:8080/"
        },
        "outputId": "ca595694-4c06-45c6-b8a6-d2ae0dc74886"
      },
      "execution_count": null,
      "outputs": [
        {
          "output_type": "stream",
          "name": "stdout",
          "text": [
            "[-8, -2, 1, 2, 3, 5, 7, 8]\n"
          ]
        }
      ]
    },
    {
      "cell_type": "markdown",
      "source": [
        "## Exemplo1: Construa um algoritmo que recebe um número inteiro, a ser digitado pelo usuário, e imprime o valor digitado.\n",
        "\n"
      ],
      "metadata": {
        "id": "gg8_PcmS2sdu"
      }
    },
    {
      "cell_type": "code",
      "source": [
        "n=int(input())\n",
        "print(n)"
      ],
      "metadata": {
        "colab": {
          "base_uri": "https://localhost:8080/"
        },
        "id": "tjYk6UFQ20VW",
        "outputId": "fec9e28d-fc0c-490e-af35-c92aa1b4da55"
      },
      "execution_count": null,
      "outputs": [
        {
          "output_type": "stream",
          "name": "stdout",
          "text": [
            "8\n",
            "8\n"
          ]
        }
      ]
    },
    {
      "cell_type": "markdown",
      "source": [
        "## Exemplo2:Construa um algoritmo que recebe dois números inteiros da entrada e imprime o maior dentre os dois números."
      ],
      "metadata": {
        "id": "_-1eMR0B51ZW"
      }
    },
    {
      "cell_type": "code",
      "source": [
        "n1=int(input())\n",
        "n2=int(input())\n",
        "if (n1>n2):\n",
        "  print(n1)\n",
        "else:\n",
        "  print(n2)"
      ],
      "metadata": {
        "colab": {
          "base_uri": "https://localhost:8080/"
        },
        "id": "ybAuUWcM6Rbw",
        "outputId": "6b7795ce-a76c-4f85-a349-624bc83e7433"
      },
      "execution_count": null,
      "outputs": [
        {
          "output_type": "stream",
          "name": "stdout",
          "text": [
            "2\n",
            "3\n",
            "3\n"
          ]
        }
      ]
    },
    {
      "cell_type": "markdown",
      "source": [
        "## Exercício 1:Implementação do Insertion Sort em Python"
      ],
      "metadata": {
        "id": "6h1DiHXp8Tu1"
      }
    },
    {
      "cell_type": "code",
      "source": [
        "\n",
        "def Func(A,n):\n",
        "  for j in range(1,n):\n",
        "    ch=A[j]\n",
        "    i=j-1\n",
        "    while((i>=0) and (A[i]>ch)):\n",
        "      A[i+1]=A[i]\n",
        "      i=i-1\n",
        "    A[i+1]=ch\n",
        "\n"
      ],
      "metadata": {
        "id": "bV8kD_Z98Wo0"
      },
      "execution_count": null,
      "outputs": []
    },
    {
      "cell_type": "code",
      "source": [
        "def main():\n",
        "  n=int(input())\n",
        "  A=[]\n",
        "  for i in range(n):\n",
        "    A.append(int(input()))\n",
        "  Func(A,n)\n",
        "  print(\" \".join(map(str,A)))\n",
        "\n",
        "main()\n"
      ],
      "metadata": {
        "colab": {
          "base_uri": "https://localhost:8080/"
        },
        "id": "fMMK-qkX9um3",
        "outputId": "3eef2d0d-448e-4b43-b8c9-03102c78a60e"
      },
      "execution_count": null,
      "outputs": [
        {
          "output_type": "stream",
          "name": "stdout",
          "text": [
            "4\n",
            "2\n",
            "1\n",
            "1\n",
            "2\n",
            "1 1 2 2\n"
          ]
        }
      ]
    },
    {
      "cell_type": "markdown",
      "source": [
        "## Exercicio 2: Escreva uma função recursiva que encontre o valor de um elemento máximo de um vetor de A[1..n]."
      ],
      "metadata": {
        "id": "tYBm0d6eKgcd"
      }
    },
    {
      "cell_type": "code",
      "source": [
        "def max(A,n):\n",
        "  if n==1:\n",
        "    return A[0]\n",
        "  else:\n",
        "    m=max(A,n-1)\n",
        "    if m>A[n-1]:\n",
        "      return m\n",
        "    else:\n",
        "      return A[n-1]"
      ],
      "metadata": {
        "id": "SwW_QojCKscH"
      },
      "execution_count": 1,
      "outputs": []
    },
    {
      "cell_type": "code",
      "source": [
        "def main():\n",
        "  n=int(input())\n",
        "  A=[]\n",
        "  for i in range(n):\n",
        "    A.append(int(input()))\n",
        "  print(\"%d\"%max(A,n))\n",
        "\n",
        "main()"
      ],
      "metadata": {
        "colab": {
          "base_uri": "https://localhost:8080/"
        },
        "id": "G8PBr63SMvHY",
        "outputId": "31ea1a45-3417-47a1-f2dc-5475f6d286ef"
      },
      "execution_count": 4,
      "outputs": [
        {
          "output_type": "stream",
          "name": "stdout",
          "text": [
            "5\n",
            "1\n",
            "25\n",
            "-3\n",
            "0\n",
            "100\n",
            "100\n"
          ]
        }
      ]
    }
  ]
}