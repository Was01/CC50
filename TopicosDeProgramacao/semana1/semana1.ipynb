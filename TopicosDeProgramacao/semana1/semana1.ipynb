{
  "nbformat": 4,
  "nbformat_minor": 0,
  "metadata": {
    "colab": {
      "provenance": [],
      "authorship_tag": "ABX9TyMnXZG7UPOHjBxekS9UIOu4",
      "include_colab_link": true
    },
    "kernelspec": {
      "name": "python3",
      "display_name": "Python 3"
    },
    "language_info": {
      "name": "python"
    }
  },
  "cells": [
    {
      "cell_type": "markdown",
      "metadata": {
        "id": "view-in-github",
        "colab_type": "text"
      },
      "source": [
        "<a href=\"https://colab.research.google.com/github/Was01/CC50/blob/main/TopicosDeProgramacao/semana1/semana1.ipynb\" target=\"_parent\"><img src=\"https://colab.research.google.com/assets/colab-badge.svg\" alt=\"Open In Colab\"/></a>"
      ]
    },
    {
      "cell_type": "markdown",
      "source": [
        "## Soma dos elementos: (n-1)+(n-2)+....+3"
      ],
      "metadata": {
        "id": "02-S_JDkLbF7"
      }
    },
    {
      "cell_type": "code",
      "execution_count": 11,
      "metadata": {
        "id": "pzmoY2mFsDV5"
      },
      "outputs": [],
      "source": [
        "def lista_num(n):\n",
        "  soma=0\n",
        "  for i in range(2,n-1):\n",
        "    s=0\n",
        "    for j in range(i,n+1):\n",
        "      s=s+1\n",
        "    soma=soma+s\n",
        "  return soma"
      ]
    },
    {
      "cell_type": "code",
      "source": [
        "lista_num(90)"
      ],
      "metadata": {
        "colab": {
          "base_uri": "https://localhost:8080/"
        },
        "id": "ZODoR6ngsXKi",
        "outputId": "0f7d9277-ade7-41e7-981e-aaf042f4216c"
      },
      "execution_count": 13,
      "outputs": [
        {
          "output_type": "execute_result",
          "data": {
            "text/plain": [
              "4002"
            ]
          },
          "metadata": {},
          "execution_count": 13
        }
      ]
    },
    {
      "cell_type": "markdown",
      "source": [
        "## Ordenação de listas"
      ],
      "metadata": {
        "id": "_ClIAkKlLCq9"
      }
    },
    {
      "cell_type": "code",
      "source": [
        "def ordena_lista(lista):\n",
        "  for i in range(len(lista)):\n",
        "    for j in range(i+1,len(lista)):\n",
        "      if lista[i]>lista[j]:\n",
        "        aux=lista[i]\n",
        "        lista[i]=lista[j]\n",
        "        lista[j]=aux\n",
        "  return lista"
      ],
      "metadata": {
        "id": "Pc6Zz1mpKFS3"
      },
      "execution_count": 15,
      "outputs": []
    },
    {
      "cell_type": "code",
      "source": [
        "lista=[3,5,7,2,1]\n",
        "print(ordena_lista(lista))"
      ],
      "metadata": {
        "colab": {
          "base_uri": "https://localhost:8080/"
        },
        "id": "_Gbm7NxOKxbo",
        "outputId": "2cee9e1b-73bc-4d7d-9598-9154f3bc1734"
      },
      "execution_count": 16,
      "outputs": [
        {
          "output_type": "stream",
          "name": "stdout",
          "text": [
            "[1, 2, 3, 5, 7]\n"
          ]
        }
      ]
    }
  ]
}