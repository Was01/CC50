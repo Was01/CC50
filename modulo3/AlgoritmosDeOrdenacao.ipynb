{
  "nbformat": 4,
  "nbformat_minor": 0,
  "metadata": {
    "colab": {
      "provenance": [],
      "authorship_tag": "ABX9TyPeVDDrposS2oqpmrhBRxn8",
      "include_colab_link": true
    },
    "kernelspec": {
      "name": "python3",
      "display_name": "Python 3"
    },
    "language_info": {
      "name": "python"
    }
  },
  "cells": [
    {
      "cell_type": "markdown",
      "metadata": {
        "id": "view-in-github",
        "colab_type": "text"
      },
      "source": [
        "<a href=\"https://colab.research.google.com/github/Was01/CC50/blob/main/modulo3/AlgoritmosDeOrdenacao.ipynb\" target=\"_parent\"><img src=\"https://colab.research.google.com/assets/colab-badge.svg\" alt=\"Open In Colab\"/></a>"
      ]
    },
    {
      "cell_type": "code",
      "execution_count": 5,
      "metadata": {
        "id": "tWzZFUZLbPMY",
        "colab": {
          "base_uri": "https://localhost:8080/"
        },
        "outputId": "a15c3c8d-1874-4144-c652-dc1cfd3e5762"
      },
      "outputs": [
        {
          "output_type": "stream",
          "name": "stdout",
          "text": [
            "1\n"
          ]
        }
      ],
      "source": [
        "lista=[7,5,1,8,3]\n",
        "\n",
        "def MenorElemento(lista):\n",
        "  min=lista[0]\n",
        "  for i in range(len(lista)):\n",
        "    if(lista[i]<min):\n",
        "      min=lista[i]\n",
        "  return min\n",
        "\n",
        "print(MenorElemento(lista))"
      ]
    }
  ]
}