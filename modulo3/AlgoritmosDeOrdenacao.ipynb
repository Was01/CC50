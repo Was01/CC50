{
  "nbformat": 4,
  "nbformat_minor": 0,
  "metadata": {
    "colab": {
      "provenance": [],
      "authorship_tag": "ABX9TyPIIvpG9f/jigkHuObe79r/",
      "include_colab_link": true
    },
    "kernelspec": {
      "name": "python3",
      "display_name": "Python 3"
    },
    "language_info": {
      "name": "python"
    }
  },
  "cells": [
    {
      "cell_type": "markdown",
      "metadata": {
        "id": "view-in-github",
        "colab_type": "text"
      },
      "source": [
        "<a href=\"https://colab.research.google.com/github/Was01/CC50/blob/main/modulo3/AlgoritmosDeOrdenacao.ipynb\" target=\"_parent\"><img src=\"https://colab.research.google.com/assets/colab-badge.svg\" alt=\"Open In Colab\"/></a>"
      ]
    },
    {
      "cell_type": "markdown",
      "source": [
        "## Busca por menor elemento da lista"
      ],
      "metadata": {
        "id": "Nc4leavefvBr"
      }
    },
    {
      "cell_type": "code",
      "execution_count": 3,
      "metadata": {
        "id": "tWzZFUZLbPMY",
        "colab": {
          "base_uri": "https://localhost:8080/"
        },
        "outputId": "6cecea65-6c63-4620-ad40-71c0510d8364"
      },
      "outputs": [
        {
          "output_type": "stream",
          "name": "stdout",
          "text": [
            "1\n"
          ]
        }
      ],
      "source": [
        "lista=[7,5,1,8,3]\n",
        "\n",
        "def MenorElemento(lista):\n",
        "  min=lista[0]\n",
        "  for i in range(len(lista)):\n",
        "    if(lista[i]<min):\n",
        "      min=lista[i]\n",
        "  return min\n",
        "\n",
        "print(MenorElemento(lista))"
      ]
    },
    {
      "cell_type": "markdown",
      "source": [
        "## Selection Sort"
      ],
      "metadata": {
        "id": "RsiBc0_efiBa"
      }
    },
    {
      "cell_type": "code",
      "source": [
        "lista=[7,5,9,1,8,3,2]\n",
        "\n",
        "def SelectonSort(lista):\n",
        "  n=len(lista)\n",
        "  for j in range(n-1):\n",
        "    min_index=j\n",
        "    for i in range(j,n):\n",
        "      if lista[i]<lista[min_index]:\n",
        "        lista[i],lista[min_index]=lista[min_index],lista[i]\n",
        "    if lista[j]<lista[min_index]:\n",
        "      lista[j],lista[min_index]=lista[min_index],lista[j]\n",
        "  return lista\n",
        "\n",
        "print(SelectonSort(lista))"
      ],
      "metadata": {
        "id": "kkkPgPwvfqDM",
        "colab": {
          "base_uri": "https://localhost:8080/"
        },
        "outputId": "c8b16763-f9c8-4dae-a73a-ecdfc08345b1"
      },
      "execution_count": 4,
      "outputs": [
        {
          "output_type": "stream",
          "name": "stdout",
          "text": [
            "[1, 2, 3, 5, 7, 8, 9]\n"
          ]
        }
      ]
    },
    {
      "cell_type": "code",
      "source": [
        "lista=[4,9,2,1,7,8]\n",
        "\n",
        "def BubbleSort(lista):\n",
        "  n=len(lista)\n",
        "  while (n>1):\n",
        "    for i in range(n-1):\n",
        "      if lista[i]>lista[i+1]:\n",
        "        lista[i],lista[i+1]=lista[i+1],lista[i]\n",
        "    n-=1\n",
        "  return lista\n",
        "\n",
        "print(BubbleSort(lista))"
      ],
      "metadata": {
        "colab": {
          "base_uri": "https://localhost:8080/"
        },
        "id": "J8T52eBsCDHu",
        "outputId": "dd938f9e-04e7-462e-a11a-1eb964b7ccf8"
      },
      "execution_count": 3,
      "outputs": [
        {
          "output_type": "stream",
          "name": "stdout",
          "text": [
            "[1, 2, 4, 7, 8, 9]\n"
          ]
        }
      ]
    }
  ]
}