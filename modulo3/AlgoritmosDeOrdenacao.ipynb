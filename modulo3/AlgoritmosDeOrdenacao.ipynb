{
  "nbformat": 4,
  "nbformat_minor": 0,
  "metadata": {
    "colab": {
      "provenance": [],
      "authorship_tag": "ABX9TyNA8tzPidVZXoRLWoxQ/Xn8",
      "include_colab_link": true
    },
    "kernelspec": {
      "name": "python3",
      "display_name": "Python 3"
    },
    "language_info": {
      "name": "python"
    }
  },
  "cells": [
    {
      "cell_type": "markdown",
      "metadata": {
        "id": "view-in-github",
        "colab_type": "text"
      },
      "source": [
        "<a href=\"https://colab.research.google.com/github/Was01/CC50/blob/main/modulo3/AlgoritmosDeOrdenacao.ipynb\" target=\"_parent\"><img src=\"https://colab.research.google.com/assets/colab-badge.svg\" alt=\"Open In Colab\"/></a>"
      ]
    },
    {
      "cell_type": "markdown",
      "source": [
        "## Busca por menor elemento da lista"
      ],
      "metadata": {
        "id": "Nc4leavefvBr"
      }
    },
    {
      "cell_type": "code",
      "execution_count": null,
      "metadata": {
        "id": "tWzZFUZLbPMY",
        "colab": {
          "base_uri": "https://localhost:8080/"
        },
        "outputId": "a21b1f2d-cecc-4e1b-d3f1-1f28076a1769"
      },
      "outputs": [
        {
          "output_type": "stream",
          "name": "stdout",
          "text": [
            "1\n"
          ]
        }
      ],
      "source": [
        "lista=[7,5,1,8,3]\n",
        "\n",
        "def MenorElemento(lista):\n",
        "  min=lista[0]\n",
        "  for i in range(len(lista)):\n",
        "    if(lista[i]<min):\n",
        "      min=lista[i]\n",
        "  return min\n",
        "\n",
        "print(MenorElemento(lista))"
      ]
    },
    {
      "cell_type": "markdown",
      "source": [
        "## Selection Sort"
      ],
      "metadata": {
        "id": "RsiBc0_efiBa"
      }
    },
    {
      "cell_type": "code",
      "source": [
        "lista=[7,5,9,1,8,3,2]\n",
        "\n",
        "def SelectonSort(lista):\n",
        "  n=len(lista)\n",
        "  for j in range(n-1):\n",
        "    min_index=j\n",
        "    for i in range(j,n):\n",
        "      if lista[i]<lista[min_index]:\n",
        "        lista[i],lista[min_index]=lista[min_index],lista[i]\n",
        "    if lista[j]<lista[min_index]:\n",
        "      lista[j],lista[min_index]=lista[min_index],lista[j]\n",
        "  return lista\n",
        "\n",
        "print(SelectonSort(lista))"
      ],
      "metadata": {
        "id": "kkkPgPwvfqDM",
        "colab": {
          "base_uri": "https://localhost:8080/"
        },
        "outputId": "a1fd6c42-44aa-4915-cef6-0e92c9f1dd02"
      },
      "execution_count": null,
      "outputs": [
        {
          "output_type": "stream",
          "name": "stdout",
          "text": [
            "[1, 2, 3, 5, 7, 8, 9]\n"
          ]
        }
      ]
    }
  ]
}