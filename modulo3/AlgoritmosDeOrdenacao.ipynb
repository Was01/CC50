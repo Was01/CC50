{
  "cells": [
    {
      "cell_type": "markdown",
      "metadata": {
        "id": "view-in-github",
        "colab_type": "text"
      },
      "source": [
        "<a href=\"https://colab.research.google.com/github/Was01/CC50/blob/main/modulo3/AlgoritmosDeOrdenacao.ipynb\" target=\"_parent\"><img src=\"https://colab.research.google.com/assets/colab-badge.svg\" alt=\"Open In Colab\"/></a>"
      ]
    },
    {
      "cell_type": "markdown",
      "metadata": {
        "id": "Nc4leavefvBr"
      },
      "source": [
        "## Busca por menor elemento da lista"
      ]
    },
    {
      "cell_type": "code",
      "execution_count": null,
      "metadata": {
        "colab": {
          "base_uri": "https://localhost:8080/"
        },
        "id": "tWzZFUZLbPMY",
        "outputId": "a21b1f2d-cecc-4e1b-d3f1-1f28076a1769"
      },
      "outputs": [
        {
          "name": "stdout",
          "output_type": "stream",
          "text": [
            "1\n"
          ]
        }
      ],
      "source": [
        "lista=[7,5,1,8,3]\n",
        "\n",
        "def MenorElemento(lista):\n",
        "  min=lista[0]\n",
        "  for i in range(len(lista)):\n",
        "    if(lista[i]<min):\n",
        "      min=lista[i]\n",
        "  return min\n",
        "\n",
        "print(MenorElemento(lista))"
      ]
    },
    {
      "cell_type": "markdown",
      "metadata": {
        "id": "RsiBc0_efiBa"
      },
      "source": [
        "## Selection Sort"
      ]
    },
    {
      "cell_type": "code",
      "execution_count": null,
      "metadata": {
        "colab": {
          "base_uri": "https://localhost:8080/"
        },
        "id": "kkkPgPwvfqDM",
        "outputId": "abca994f-458a-41e9-c8bd-0128a0b8dc11"
      },
      "outputs": [
        {
          "name": "stdout",
          "output_type": "stream",
          "text": [
            "[1, 2, 3, 5, 7, 8, 9]\n"
          ]
        }
      ],
      "source": [
        "lista=[7,5,9,1,8,3,2]\n",
        "\n",
        "def selection_sort(lista):\n",
        "  n=len(lista)\n",
        "  for j in range(n-1):\n",
        "    min_index=j\n",
        "    for i in range(j,n):\n",
        "      if lista[i]<lista[min_index]:\n",
        "        min_index=i\n",
        "    if lista[min_index]<lista[j]:\n",
        "      lista[j],lista[min_index]=lista[min_index],lista[j]\n",
        "  return lista\n",
        "\n",
        "print(selection_sort(lista))"
      ]
    }
  ],
  "metadata": {
    "colab": {
      "provenance": [],
      "authorship_tag": "ABX9TyOeRrxkb2+Pl5t8j+Kb6A+h",
      "include_colab_link": true
    },
    "kernelspec": {
      "display_name": "Python 3",
      "name": "python3"
    },
    "language_info": {
      "name": "python"
    }
  },
  "nbformat": 4,
  "nbformat_minor": 0
}